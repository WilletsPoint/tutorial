{
  "nbformat": 4,
  "nbformat_minor": 0,
  "metadata": {
    "colab": {
      "name": "Untitled0.ipynb",
      "provenance": [],
      "collapsed_sections": [],
      "authorship_tag": "ABX9TyPquDSx+YYJt3jrqhYxACtS",
      "include_colab_link": true
    },
    "kernelspec": {
      "name": "python3",
      "display_name": "Python 3"
    },
    "language_info": {
      "name": "python"
    }
  },
  "cells": [
    {
      "cell_type": "markdown",
      "metadata": {
        "id": "view-in-github",
        "colab_type": "text"
      },
      "source": [
        "<a href=\"https://colab.research.google.com/github/WilletsPoint/tutorial/blob/main/Untitled0.ipynb\" target=\"_parent\"><img src=\"https://colab.research.google.com/assets/colab-badge.svg\" alt=\"Open In Colab\"/></a>"
      ]
    },
    {
      "cell_type": "code",
      "metadata": {
        "id": "cXrEmMBoHm3l"
      },
      "source": [
        "import numpy as np\n",
        "import torch\n",
        "import math"
      ],
      "execution_count": 1,
      "outputs": []
    },
    {
      "cell_type": "code",
      "metadata": {
        "colab": {
          "base_uri": "https://localhost:8080/"
        },
        "id": "shJQ7g90K9uJ",
        "outputId": "a9a9abd2-a04f-4925-9b82-bf07419a3eff"
      },
      "source": [
        "print(np.random.randn(5,3))"
      ],
      "execution_count": 2,
      "outputs": [
        {
          "output_type": "stream",
          "text": [
            "[[-1.37741937 -0.20214842 -0.52807799]\n",
            " [-1.04146959  0.67769057  2.45034212]\n",
            " [ 1.01219628 -0.64656019  0.65836321]\n",
            " [-0.08129875 -0.17794709  1.02003539]\n",
            " [-2.6994546   2.44847496  0.75439468]]\n"
          ],
          "name": "stdout"
        }
      ]
    },
    {
      "cell_type": "code",
      "metadata": {
        "colab": {
          "base_uri": "https://localhost:8080/"
        },
        "id": "ni8LeQ_3Lf-4",
        "outputId": "a7158374-14cd-4eb0-e522-13da5b6137d9"
      },
      "source": [
        "print(torch.randn(5,4))"
      ],
      "execution_count": 3,
      "outputs": [
        {
          "output_type": "stream",
          "text": [
            "tensor([[ 1.6774,  0.6647,  0.0993, -1.4711],\n",
            "        [ 0.9753,  1.5390, -1.2228,  0.9095],\n",
            "        [-1.1056, -0.5851,  2.2751,  0.4516],\n",
            "        [-2.8895,  1.6118, -0.9541, -0.3819],\n",
            "        [-0.1873,  0.6221,  0.0758, -0.7215]])\n"
          ],
          "name": "stdout"
        }
      ]
    },
    {
      "cell_type": "code",
      "metadata": {
        "colab": {
          "base_uri": "https://localhost:8080/"
        },
        "id": "pMO2azkKLoFq",
        "outputId": "bb236bb3-7240-43d3-fc07-3f6f751328de"
      },
      "source": [
        "print(math.sqrt(2))"
      ],
      "execution_count": 4,
      "outputs": [
        {
          "output_type": "stream",
          "text": [
            "1.4142135623730951\n"
          ],
          "name": "stdout"
        }
      ]
    },
    {
      "cell_type": "code",
      "metadata": {
        "colab": {
          "base_uri": "https://localhost:8080/"
        },
        "id": "e_V_T2k1NL5o",
        "outputId": "10f23c77-2eec-4272-9861-b1378f0e7302"
      },
      "source": [
        "num=3\n",
        "print(num)\n",
        "print(type(num))\n",
        "num2=-1.23\n",
        "print(num2)\n",
        "print(type(num2))"
      ],
      "execution_count": 6,
      "outputs": [
        {
          "output_type": "stream",
          "text": [
            "3\n",
            "<class 'int'>\n",
            "-1.23\n",
            "<class 'float'>\n"
          ],
          "name": "stdout"
        }
      ]
    },
    {
      "cell_type": "code",
      "metadata": {
        "colab": {
          "base_uri": "https://localhost:8080/"
        },
        "id": "U_8JtuOKNyhL",
        "outputId": "88002f5f-f5c8-450a-bd08-7305b8fa98e5"
      },
      "source": [
        "string1='hello world'\n",
        "print(string1)\n",
        "string2=\"hello world2\"\n",
        "print(string2)\n",
        "string5=\"hello \\nworld5\"\n",
        "print(string5)"
      ],
      "execution_count": 8,
      "outputs": [
        {
          "output_type": "stream",
          "text": [
            "hello world\n",
            "hello world2\n",
            "hello \n",
            "world5\n"
          ],
          "name": "stdout"
        }
      ]
    },
    {
      "cell_type": "code",
      "metadata": {
        "colab": {
          "base_uri": "https://localhost:8080/"
        },
        "id": "WOSl94V5OhvM",
        "outputId": "e060e82d-d47d-4f89-e1a7-bb22ca4d110d"
      },
      "source": [
        "a=[1,2,3,4,5,6,7]\n",
        "print(a[2:5])"
      ],
      "execution_count": 13,
      "outputs": [
        {
          "output_type": "stream",
          "text": [
            "[3, 4, 5]\n"
          ],
          "name": "stdout"
        }
      ]
    },
    {
      "cell_type": "code",
      "metadata": {
        "colab": {
          "base_uri": "https://localhost:8080/"
        },
        "id": "nBeRgC87Qgg7",
        "outputId": "13e3a785-e4e4-43f6-c680-4f169c3569de"
      },
      "source": [
        "a=[1,2,3]\n",
        "b=['4','5','6']\n",
        "print(a+b)\n",
        "print(a*3)"
      ],
      "execution_count": 14,
      "outputs": [
        {
          "output_type": "stream",
          "text": [
            "[1, 2, 3, '4', '5', '6']\n",
            "[1, 2, 3, 1, 2, 3, 1, 2, 3]\n"
          ],
          "name": "stdout"
        }
      ]
    },
    {
      "cell_type": "code",
      "metadata": {
        "colab": {
          "base_uri": "https://localhost:8080/"
        },
        "id": "aWeRwcnVQ3KQ",
        "outputId": "eac72018-0d7d-40d7-f4f0-20a5fcd044bd"
      },
      "source": [
        "a=[]\n",
        "a.append([1])\n",
        "print(a)"
      ],
      "execution_count": 16,
      "outputs": [
        {
          "output_type": "stream",
          "text": [
            "[[1]]\n"
          ],
          "name": "stdout"
        }
      ]
    },
    {
      "cell_type": "code",
      "metadata": {
        "colab": {
          "base_uri": "https://localhost:8080/"
        },
        "id": "CSWGQFgARowM",
        "outputId": "9cf40fc6-b2bb-41e0-b63f-20f98d60848d"
      },
      "source": [
        "a=[]\n",
        "a.append(1)\n",
        "a.append(3)\n",
        "a.append(2)\n",
        "print(a)\n",
        "a.reverse()\n",
        "print(a)\n",
        "a.sort()\n",
        "print(a)\n"
      ],
      "execution_count": 17,
      "outputs": [
        {
          "output_type": "stream",
          "text": [
            "[1, 3, 2]\n",
            "[2, 3, 1]\n",
            "[1, 2, 3]\n"
          ],
          "name": "stdout"
        }
      ]
    },
    {
      "cell_type": "code",
      "metadata": {
        "colab": {
          "base_uri": "https://localhost:8080/"
        },
        "id": "iFqSF_5bSFHd",
        "outputId": "7b4c3f16-168a-4bdc-f9e8-b2903fd43567"
      },
      "source": [
        "a={'a':1, 'b':2, 3:'abc', 4:[5,6,7]}\n",
        "print(a['a'])\n",
        "print(a['b'])\n",
        "print(a[3])\n",
        "print(a[4])"
      ],
      "execution_count": 18,
      "outputs": [
        {
          "output_type": "stream",
          "text": [
            "1\n",
            "2\n",
            "abc\n",
            "[5, 6, 7]\n"
          ],
          "name": "stdout"
        }
      ]
    },
    {
      "cell_type": "code",
      "metadata": {
        "colab": {
          "base_uri": "https://localhost:8080/"
        },
        "id": "GVLUuaqyS6gI",
        "outputId": "8fc135bb-db4d-4ae8-8541-0f04f02fecf7"
      },
      "source": [
        "set1=set([1,2,3,4,5])\n",
        "print(set1)\n",
        "set2=set([1,3,5,7,9])\n",
        "print(set2)\n",
        "set3=set1&set2\n",
        "print(set3)"
      ],
      "execution_count": 20,
      "outputs": [
        {
          "output_type": "stream",
          "text": [
            "{1, 2, 3, 4, 5}\n",
            "{1, 3, 5, 7, 9}\n",
            "{1, 3, 5}\n"
          ],
          "name": "stdout"
        }
      ]
    }
  ]
}